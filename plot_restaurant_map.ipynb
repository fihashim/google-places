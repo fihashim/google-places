{
 "cells": [
  {
   "cell_type": "code",
   "execution_count": 1,
   "metadata": {},
   "outputs": [],
   "source": [
    "import pandas as pd "
   ]
  },
  {
   "cell_type": "code",
   "execution_count": 4,
   "metadata": {},
   "outputs": [],
   "source": [
    "# write a function that reads the restaurant_data csv file and returns a dataframe\n",
    "\n",
    "def read_data():\n",
    "    df = pd.read_csv('restaurants_data.csv')\n",
    "    return df\n",
    "\n",
    "restaurant_data = read_data()"
   ]
  },
  {
   "cell_type": "code",
   "execution_count": null,
   "metadata": {},
   "outputs": [],
   "source": [
    "import folium\n",
    "\n",
    "def plot_map_folium(latitudes, longitudes, location_names):\n",
    "    \"\"\"\n",
    "    Plots an interactive map with points based on a list of latitudes, longitudes, and location names using folium.\n",
    "    \n",
    "    Parameters:\n",
    "    latitudes (list): List of latitudes.\n",
    "    longitudes (list): List of longitudes.\n",
    "    location_names (list): List of location names corresponding to the latitudes and longitudes.\n",
    "    \"\"\"\n",
    "    # Calculate the center of the map as the mean of latitudes and longitudes\n",
    "    center_lat = sum(latitudes) / len(latitudes)\n",
    "    center_lon = sum(longitudes) / len(longitudes)\n",
    "\n",
    "    # Create a folium map centered at the mean latitude and longitude\n",
    "    my_map = folium.Map(location=[center_lat, center_lon], zoom_start=2)\n",
    "\n",
    "    # Loop through the latitudes, longitudes, and location names and add them as markers on the map\n",
    "    for lat, lon, name in zip(latitudes, longitudes, location_names):\n",
    "        folium.Marker(location=[lat, lon], popup=name).add_to(my_map)\n",
    "\n",
    "    # Display the map in a Jupyter notebook or save it to an HTML file\n",
    "    return my_map\n",
    "\n",
    "# Example usage with some latitudes and longitudes\n",
    "latitudes = restaurant_data['Latitude'].tolist()\n",
    "longitudes = restaurant_data['Longitude'].tolist()\n",
    "location_names = restaurant_data['Name'].tolist()\n",
    "\n",
    "# Plot the map\n",
    "my_map = plot_map_folium(latitudes, longitudes, location_names)\n",
    "\n",
    "# To display the map in a Jupyter notebook\n",
    "my_map\n",
    "\n",
    "# # To save the map to an HTML file (optional)\n",
    "# my_map.save(\"map.html\")\n"
   ]
  }
 ],
 "metadata": {
  "kernelspec": {
   "display_name": "Python 3",
   "language": "python",
   "name": "python3"
  },
  "language_info": {
   "codemirror_mode": {
    "name": "ipython",
    "version": 3
   },
   "file_extension": ".py",
   "mimetype": "text/x-python",
   "name": "python",
   "nbconvert_exporter": "python",
   "pygments_lexer": "ipython3",
   "version": "3.12.1"
  }
 },
 "nbformat": 4,
 "nbformat_minor": 2
}
